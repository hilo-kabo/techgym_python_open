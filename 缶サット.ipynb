{
  "nbformat": 4,
  "nbformat_minor": 0,
  "metadata": {
    "colab": {
      "name": "缶サット",
      "provenance": [],
      "collapsed_sections": [],
      "include_colab_link": true
    },
    "kernelspec": {
      "display_name": "Python 3",
      "name": "python3"
    }
  },
  "cells": [
    {
      "cell_type": "markdown",
      "metadata": {
        "id": "view-in-github",
        "colab_type": "text"
      },
      "source": [
        "<a href=\"https://colab.research.google.com/github/hilo-kabo/techgym_python_open/blob/master/%E7%BC%B6%E3%82%B5%E3%83%83%E3%83%88.ipynb\" target=\"_parent\"><img src=\"https://colab.research.google.com/assets/colab-badge.svg\" alt=\"Open In Colab\"/></a>"
      ]
    },
    {
      "cell_type": "code",
      "metadata": {
        "id": "MZIZxRfFFIaH",
        "colab": {
          "base_uri": "https://localhost:8080/",
          "height": 134
        },
        "outputId": "b9686058-e129-45b1-98e8-b581eb148c38"
      },
      "source": [
        "#include \"./Light.h\"\n",
        "\n",
        "void setup();\n",
        "{\n",
        "    Serial.begin(9600);\n",
        "    LIT_Init();\n",
        "    Serial.print(\"まだ暗い\")\n",
        "    Serial.printin(F(\"Init done\"))\n",
        "    delay(1)\n",
        "}\n",
        "\n",
        "void setup()\n",
        "{\n",
        "    for(light < 10000)\n",
        "\n",
        "uint32_t light = 0\n",
        " \n",
        "light = light + LIT_Get();\n",
        "    \n",
        "    if (light >= 10000){\n",
        "        break;\n",
        "    }\n",
        "}\n",
        "\n",
        "#include\"./BarmeterThrmohygrometer.h\"\n",
        "\n",
        "void loop()\n",
        "{\n",
        "float pressure = BTH_GetPressure();    \n",
        " Serial.print(F(\"Height = \"))\n",
        " Serial.print(height);\n",
        " Serial.printin(F(\" [m]\"));\n",
        " delay(1000);\n",
        "}"
      ],
      "execution_count": 1,
      "outputs": [
        {
          "output_type": "error",
          "ename": "SyntaxError",
          "evalue": "ignored",
          "traceback": [
            "\u001b[0;36m  File \u001b[0;32m\"<ipython-input-1-baf3f4185c49>\"\u001b[0;36m, line \u001b[0;32m3\u001b[0m\n\u001b[0;31m    void setup();\u001b[0m\n\u001b[0m             ^\u001b[0m\n\u001b[0;31mSyntaxError\u001b[0m\u001b[0;31m:\u001b[0m invalid syntax\n"
          ]
        }
      ]
    }
  ]
}