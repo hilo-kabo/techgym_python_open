{
  "nbformat": 4,
  "nbformat_minor": 0,
  "metadata": {
    "colab": {
      "name": "缶サット",
      "provenance": [],
      "collapsed_sections": [],
      "include_colab_link": true
    },
    "kernelspec": {
      "display_name": "Python 3",
      "name": "python3"
    }
  },
  "cells": [
    {
      "cell_type": "markdown",
      "metadata": {
        "id": "view-in-github",
        "colab_type": "text"
      },
      "source": [
        "<a href=\"https://colab.research.google.com/github/hilo-kabo/techgym_python_open/blob/master/%E7%BC%B6%E3%82%B5%E3%83%83%E3%83%88.ipynb\" target=\"_parent\"><img src=\"https://colab.research.google.com/assets/colab-badge.svg\" alt=\"Open In Colab\"/></a>"
      ]
    },
    {
      "cell_type": "code",
      "metadata": {
        "id": "MZIZxRfFFIaH"
      },
      "source": [
        "#include \"./Light.h\"\n",
        "\n",
        "void LIT_Init();\n",
        "int LIT_Get();\n",
        "void LIT_print();\n",
        "\n",
        "void setup();\n",
        "{\n",
        "    Serial.begin(9600);\n",
        "    LIT_Init();\n",
        "    Serial.printin(F(\"Init done\"))\n",
        "    delay(1)\n",
        "}\n",
        "\n",
        "void setup()\n",
        "{\n",
        "    for(light < 10000)\n",
        "\n",
        "uint32_t light = 0\n",
        " \n",
        "light = light + LIT_Get();\n",
        "    \n",
        "    if (light >= 10000){\n",
        "        break;\n",
        "    }\n",
        "}\n",
        "\n"
      ],
      "execution_count": null,
      "outputs": []
    }
  ]
}